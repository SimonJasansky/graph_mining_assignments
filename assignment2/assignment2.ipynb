{
 "cells": [
  {
   "cell_type": "code",
   "execution_count": null,
   "metadata": {},
   "outputs": [],
   "source": [
    "# extract unique artists and genres\n",
    "artists = music.artist.unique()\n",
    "genre = music[\"top genre\"].unique()\n",
    "\n",
    "# generate dataframes again\n",
    "artists_df = pd.DataFrame({\"artist\": artists, \"artist_iri\": artists})\n",
    "genres_df = pd.DataFrame({\"top genre\":  genre, \"top genre_iri\":  genre})\n",
    "\n",
    "# replace white spaces with underscores\n",
    "artists_df[\"artist_iri\"].replace(\" \", \"_\", regex = True, inplace = True)\n",
    "genres_df[\"top genre_iri\"].replace(\" \", \"_\", regex = True, inplace = True)\n",
    "# we also have to do that in the music dataframe\n",
    "music[\"artist_iri\"] = music[\"artist\"].replace(\" \", \"_\", regex = True)\n",
    "music[\"top genre_iri\"] = music[\"top genre\"].replace(\" \", \"_\", regex = True)\n",
    "\n",
    "\n",
    "# export\n",
    "artists_df.to_csv(\"intermediate/artists.csv\", index_label=\"index\")\n",
    "genres_df.to_csv(\"intermediate/genres.csv\", index_label=\"index\")\n",
    "music.to_csv(\"intermediate/music.csv\", index=False)"
   ]
  },
  {
   "attachments": {},
   "cell_type": "markdown",
   "metadata": {},
   "source": [
    "#2. LIMES"
   ]
  },
  {
   "cell_type": "code",
   "execution_count": null,
   "metadata": {},
   "outputs": [],
   "source": [
    "<?xml version=\"1.0\" encoding=\"UTF-8\"?>\n",
    "<!DOCTYPE LIMES SYSTEM \"limes.dtd\">\n",
    "\n",
    "<LIMES>\n",
    "    <PREFIX>\n",
    "        <NAMESPACE>http://www.w3.org/1999/02/22-rdf-syntax-ns#</NAMESPACE>\n",
    "        <LABEL>rdf</LABEL>\n",
    "    </PREFIX>\n",
    "    <PREFIX>\n",
    "        <NAMESPACE>http://www.w3.org/2000/01/rdf-schema#</NAMESPACE>\n",
    "        <LABEL>rdfs</LABEL>\n",
    "    </PREFIX>\n",
    "    <PREFIX>\n",
    "        <NAMESPACE>https://schema.org/</NAMESPACE>\n",
    "        <LABEL>schema</LABEL>\n",
    "    </PREFIX>\n",
    "    <PREFIX>\n",
    "        <NAMESPACE>http://www.w3.org/2002/07/owl#</NAMESPACE>\n",
    "        <LABEL>owl</LABEL>\n",
    "    </PREFIX>\n",
    "    <PREFIX>\n",
    "        <NAMESPACE>http://www.w3.org/2001/XMLSchema#</NAMESPACE>\n",
    "        <LABEL>xsd</LABEL>\n",
    "    </PREFIX>\n",
    "\n",
    "    <SOURCE>\n",
    "        <ID>music</ID>\n",
    "        <ENDPOINT>music.csv</ENDPOINT>\n",
    "        <VAR>?song</VAR>\n",
    "        <PAGESIZE>5000</PAGESIZE>\n",
    "        <RESTRICTION>isLiteral(?song)</RESTRICTION>\n",
    "        <PROPERTY>rdfs:label</PROPERTY>\n",
    "        <TYPE>CSV</TYPE>\n",
    "        <SEPARATOR>,</SEPARATOR>\n",
    "        <ENCLOSURE>\"</ENCLOSURE>\n",
    "    </SOURCE>\n",
    "\n",
    "    <TARGET>\n",
    "        <ID>dbpedia</ID>\n",
    "        <ENDPOINT>http://dbpedia.org/sparql</ENDPOINT>\n",
    "        <VAR>?artist</VAR>\n",
    "        <PAGESIZE>5000</PAGESIZE>\n",
    "        <RESTRICTION>?artist a dbo:MusicalArtist</RESTRICTION>\n",
    "        <PROPERTY>rdfs:label</PROPERTY>\n",
    "        <TYPE>SPARQL</TYPE>\n",
    "    </TARGET>\n",
    "\n",
    "    <METRIC>levenshtein(x.rdfs:label, y.rdfs:label)</METRIC>\n",
    "\n",
    "    <ACCEPTANCE>\n",
    "        <THRESHOLD>0.8</THRESHOLD>\n",
    "        <FILE>spotify_to_dbpedia_accepted.nt</FILE>\n",
    "        <RELATION>owl:sameAs</RELATION>\n",
    "    </ACCEPTANCE>\n",
    "\n",
    "    <REVIEW>\n",
    "        <THRESHOLD>0.6</THRESHOLD>\n",
    "        <FILE>spotify_to_dbpedia_review.nt</FILE>\n",
    "        <RELATION>owl:sameAs</RELATION>\n",
    "    </REVIEW>\n",
    "\n",
    "    <OUTPUT>NT</OUTPUT>\n",
    "</LIMES>"
   ]
  },
  {
   "attachments": {},
   "cell_type": "markdown",
   "metadata": {},
   "source": [
    "#4. SPARQL"
   ]
  },
  {
   "attachments": {},
   "cell_type": "markdown",
   "metadata": {},
   "source": [
    "Q1. Return a list of artists and their names who produce songs with genres other than \"pop\" and \"dance pop.\""
   ]
  },
  {
   "cell_type": "code",
   "execution_count": null,
   "metadata": {},
   "outputs": [],
   "source": [
    "PREFIX ex: <http://example.org/>\n",
    "PREFIX schema: <https://schema.org/>\n",
    "PREFIX mo: <http://purl.org/ontology/mo/>\n",
    "\n",
    "SELECT DISTINCT ?artist ?name\n",
    "WHERE {\n",
    "  ?recording a schema:MusicRecording ;\n",
    "             schema:byArtist ?artist ;\n",
    "             schema:genre ?genre ;\n",
    "             rdfs:label ?name .\n",
    "  FILTER(?genre != ex:pop && ?genre != ex:dance_pop)\n",
    "  ?artist a schema:Person .\n",
    "}\n",
    "ORDER BY ?name"
   ]
  },
  {
   "attachments": {},
   "cell_type": "markdown",
   "metadata": {},
   "source": [
    "Q2. Return a list of songs released in 2016 by artists born before 1990."
   ]
  },
  {
   "cell_type": "code",
   "execution_count": null,
   "metadata": {},
   "outputs": [],
   "source": [
    "PREFIX ex: <http://example.org/>\n",
    "PREFIX schema: <https://schema.org/>\n",
    "PREFIX mo: <http://purl.org/ontology/mo/>\n",
    "#PREFIX xsd: <http://www.w3.org/2001/XMLSchema#>\n",
    "\n",
    "SELECT ?song ?name ?year\n",
    "WHERE {\n",
    "  ?recording a schema:MusicRecording ;\n",
    "             schema:datePublished ?year ;\n",
    "             schema:byArtist ?artist ;\n",
    "             rdfs:label ?name .\n",
    "  FILTER(?year = \"2016\"^^xsd:gYear)\n",
    "  ?artist a schema:Person ;\n",
    "          schema:birthDate ?birth_date .\n",
    "  FILTER(?birth_date < \"1990-01-01\"^^xsd:date)\n",
    "}\n",
    "ORDER BY ?name"
   ]
  },
  {
   "attachments": {},
   "cell_type": "markdown",
   "metadata": {},
   "source": [
    "Q3. Who is the artist that has produced the greatest number of songs?"
   ]
  },
  {
   "cell_type": "code",
   "execution_count": null,
   "metadata": {},
   "outputs": [],
   "source": [
    "PREFIX ex: <http://example.org/>\n",
    "PREFIX schema: <https://schema.org/>\n",
    "\n",
    "SELECT ?artist (COUNT(?recording) AS ?count)\n",
    "WHERE {\n",
    "  ?recording a schema:MusicRecording ;\n",
    "             schema:byArtist ?artist .\n",
    "  ?artist a schema:Person .\n",
    "}\n",
    "GROUP BY ?artist\n",
    "ORDER BY DESC(?count)\n",
    "LIMIT 1"
   ]
  },
  {
   "attachments": {},
   "cell_type": "markdown",
   "metadata": {},
   "source": [
    "Q4. Return a list of artists born in the USA, sorted by the number of songs they have produced.\n"
   ]
  },
  {
   "cell_type": "code",
   "execution_count": null,
   "metadata": {},
   "outputs": [],
   "source": [
    "PREFIX ex: <http://example.org/>\n",
    "PREFIX schema: <https://schema.org/>\n",
    "\n",
    "SELECT ?artist ?name (COUNT(?recording) AS ?count)\n",
    "WHERE {\n",
    "  ?recording a schema:MusicRecording ;\n",
    "             schema:byArtist ?artist ;\n",
    "             rdfs:label ?song .\n",
    "  ?artist a schema:Person ;\n",
    "          schema:birthPlace ?birth_place ;\n",
    "          rdfs:label ?name .\n",
    "  ?birth_place a schema:Place ;\n",
    "               schema:addressCountry \"USA\" .\n",
    "}\n",
    "GROUP BY ?artist ?name\n",
    "ORDER BY DESC(?count)"
   ]
  },
  {
   "attachments": {},
   "cell_type": "markdown",
   "metadata": {},
   "source": [
    "Q5. Find artists whose song names contain the word \"love\" and sort the artists by the resulting number of songs."
   ]
  },
  {
   "cell_type": "code",
   "execution_count": null,
   "metadata": {},
   "outputs": [],
   "source": [
    "PREFIX ex: <http://example.org/>\n",
    "PREFIX schema: <https://schema.org/>\n",
    "\n",
    "SELECT ?artist ?name (COUNT(?recording) AS ?count)\n",
    "WHERE {\n",
    "  ?recording a schema:MusicRecording ;\n",
    "             schema:byArtist ?artist ;\n",
    "             rdfs:label ?song .\n",
    "  ?artist a schema:Person ;\n",
    "          rdfs:label ?name .\n",
    "  FILTER(CONTAINS(LCASE(?song), \"love\"))\n",
    "}\n",
    "GROUP BY ?artist ?name\n",
    "ORDER BY DESC(?count)"
   ]
  },
  {
   "attachments": {},
   "cell_type": "markdown",
   "metadata": {},
   "source": [
    "# Assignment 1 Part 2\n",
    "Simon Jasansky, Akos Engelmann, Ipek Cakin, Gergely Parady"
   ]
  },
  {
   "cell_type": "code",
   "execution_count": 1,
   "metadata": {},
   "outputs": [],
   "source": [
    "import pandas as pd\n",
    "import numpy as np\n",
    "from rdflib import URIRef, BNode, Literal, Namespace\n",
    "from rdflib.namespace import XSD, RDF, RDFS\n",
    "from rdflib import Graph\n",
    "from urllib.parse import quote"
   ]
  },
  {
   "attachments": {},
   "cell_type": "markdown",
   "metadata": {},
   "source": [
    "## We split the original music.csv dataframe into three: \n",
    "1. Music\n",
    "2. Artists\n",
    "3. Genres"
   ]
  },
  {
   "cell_type": "code",
   "execution_count": 2,
   "metadata": {},
   "outputs": [
    {
     "data": {
      "text/html": [
       "<div>\n",
       "<style scoped>\n",
       "    .dataframe tbody tr th:only-of-type {\n",
       "        vertical-align: middle;\n",
       "    }\n",
       "\n",
       "    .dataframe tbody tr th {\n",
       "        vertical-align: top;\n",
       "    }\n",
       "\n",
       "    .dataframe thead th {\n",
       "        text-align: right;\n",
       "    }\n",
       "</style>\n",
       "<table border=\"1\" class=\"dataframe\">\n",
       "  <thead>\n",
       "    <tr style=\"text-align: right;\">\n",
       "      <th></th>\n",
       "      <th>index</th>\n",
       "      <th>title</th>\n",
       "      <th>artist</th>\n",
       "      <th>top genre</th>\n",
       "      <th>year</th>\n",
       "    </tr>\n",
       "  </thead>\n",
       "  <tbody>\n",
       "    <tr>\n",
       "      <th>0</th>\n",
       "      <td>0</td>\n",
       "      <td>Hey, Soul Sister</td>\n",
       "      <td>Train</td>\n",
       "      <td>neo mellow</td>\n",
       "      <td>2010</td>\n",
       "    </tr>\n",
       "    <tr>\n",
       "      <th>1</th>\n",
       "      <td>1</td>\n",
       "      <td>Love The Way You Lie</td>\n",
       "      <td>Eminem</td>\n",
       "      <td>detroit hip hop</td>\n",
       "      <td>2010</td>\n",
       "    </tr>\n",
       "    <tr>\n",
       "      <th>2</th>\n",
       "      <td>2</td>\n",
       "      <td>TiK ToK</td>\n",
       "      <td>Kesha</td>\n",
       "      <td>dance pop</td>\n",
       "      <td>2010</td>\n",
       "    </tr>\n",
       "    <tr>\n",
       "      <th>3</th>\n",
       "      <td>3</td>\n",
       "      <td>Bad Romance</td>\n",
       "      <td>Lady Gaga</td>\n",
       "      <td>dance pop</td>\n",
       "      <td>2010</td>\n",
       "    </tr>\n",
       "    <tr>\n",
       "      <th>4</th>\n",
       "      <td>4</td>\n",
       "      <td>Just the Way You Are</td>\n",
       "      <td>Bruno Mars</td>\n",
       "      <td>pop</td>\n",
       "      <td>2010</td>\n",
       "    </tr>\n",
       "    <tr>\n",
       "      <th>...</th>\n",
       "      <td>...</td>\n",
       "      <td>...</td>\n",
       "      <td>...</td>\n",
       "      <td>...</td>\n",
       "      <td>...</td>\n",
       "    </tr>\n",
       "    <tr>\n",
       "      <th>598</th>\n",
       "      <td>598</td>\n",
       "      <td>Find U Again (feat. Camila Cabello)</td>\n",
       "      <td>Mark Ronson</td>\n",
       "      <td>dance pop</td>\n",
       "      <td>2019</td>\n",
       "    </tr>\n",
       "    <tr>\n",
       "      <th>599</th>\n",
       "      <td>599</td>\n",
       "      <td>Cross Me (feat. Chance the Rapper &amp; PnB Rock)</td>\n",
       "      <td>Ed Sheeran</td>\n",
       "      <td>pop</td>\n",
       "      <td>2019</td>\n",
       "    </tr>\n",
       "    <tr>\n",
       "      <th>600</th>\n",
       "      <td>600</td>\n",
       "      <td>No Brainer (feat. Justin Bieber, Chance the Ra...</td>\n",
       "      <td>DJ Khaled</td>\n",
       "      <td>dance pop</td>\n",
       "      <td>2019</td>\n",
       "    </tr>\n",
       "    <tr>\n",
       "      <th>601</th>\n",
       "      <td>601</td>\n",
       "      <td>Nothing Breaks Like a Heart (feat. Miley Cyrus)</td>\n",
       "      <td>Mark Ronson</td>\n",
       "      <td>dance pop</td>\n",
       "      <td>2019</td>\n",
       "    </tr>\n",
       "    <tr>\n",
       "      <th>602</th>\n",
       "      <td>602</td>\n",
       "      <td>Kills You Slowly</td>\n",
       "      <td>The Chainsmokers</td>\n",
       "      <td>electropop</td>\n",
       "      <td>2019</td>\n",
       "    </tr>\n",
       "  </tbody>\n",
       "</table>\n",
       "<p>603 rows × 5 columns</p>\n",
       "</div>"
      ],
      "text/plain": [
       "     index                                              title  \\\n",
       "0        0                                   Hey, Soul Sister   \n",
       "1        1                               Love The Way You Lie   \n",
       "2        2                                            TiK ToK   \n",
       "3        3                                        Bad Romance   \n",
       "4        4                               Just the Way You Are   \n",
       "..     ...                                                ...   \n",
       "598    598                Find U Again (feat. Camila Cabello)   \n",
       "599    599      Cross Me (feat. Chance the Rapper & PnB Rock)   \n",
       "600    600  No Brainer (feat. Justin Bieber, Chance the Ra...   \n",
       "601    601    Nothing Breaks Like a Heart (feat. Miley Cyrus)   \n",
       "602    602                                   Kills You Slowly   \n",
       "\n",
       "               artist        top genre  year  \n",
       "0               Train       neo mellow  2010  \n",
       "1              Eminem  detroit hip hop  2010  \n",
       "2               Kesha        dance pop  2010  \n",
       "3           Lady Gaga        dance pop  2010  \n",
       "4          Bruno Mars              pop  2010  \n",
       "..                ...              ...   ...  \n",
       "598       Mark Ronson        dance pop  2019  \n",
       "599        Ed Sheeran              pop  2019  \n",
       "600         DJ Khaled        dance pop  2019  \n",
       "601       Mark Ronson        dance pop  2019  \n",
       "602  The Chainsmokers       electropop  2019  \n",
       "\n",
       "[603 rows x 5 columns]"
      ]
     },
     "execution_count": 2,
     "metadata": {},
     "output_type": "execute_result"
    }
   ],
   "source": [
    "music = pd.read_csv(\"data/music.csv\")\n",
    "music"
   ]
  },
  {
   "attachments": {},
   "cell_type": "markdown",
   "metadata": {},
   "source": [
    "#2. LIMES"
   ]
  },
  {
   "attachments": {},
   "cell_type": "markdown",
   "metadata": {},
   "source": [
    "#4. SPARQL"
   ]
  },
  {
   "cell_type": "code",
   "execution_count": null,
   "metadata": {},
   "outputs": [],
   "source": [
    "PREFIX ex: <http://example.org/>\n",
    "PREFIX schema: <https://schema.org/>\n",
    "PREFIX mo: <http://purl.org/ontology/mo/>\n",
    "\n",
    "SELECT DISTINCT ?artist ?name\n",
    "WHERE {\n",
    "  ?recording a schema:MusicRecording ;\n",
    "             schema:byArtist ?artist ;\n",
    "             schema:genre ?genre ;\n",
    "             rdfs:label ?name .\n",
    "  FILTER(?genre != ex:pop && ?genre != ex:dance_pop)\n",
    "  ?artist a schema:Person .\n",
    "}\n",
    "ORDER BY ?name"
   ]
  },
  {
   "cell_type": "code",
   "execution_count": null,
   "metadata": {},
   "outputs": [],
   "source": [
    "PREFIX ex: <http://example.org/>\n",
    "PREFIX schema: <https://schema.org/>\n",
    "PREFIX mo: <http://purl.org/ontology/mo/>\n",
    "PREFIX xsd: <http://www.w3.org/2001/XMLSchema#>\n",
    "\n",
    "SELECT ?song ?name ?year\n",
    "WHERE {\n",
    "  ?recording a schema:MusicRecording ;\n",
    "             schema:datePublished ?year ;\n",
    "             schema:byArtist ?artist ;\n",
    "             rdfs:label ?name .\n",
    "  FILTER(?year = \"2016\"^^xsd:gYear)\n",
    "  ?artist a schema:Person ;\n",
    "          schema:birthDate ?birth_date .\n",
    "  FILTER(?birth_date < \"1990-01-01\"^^xsd:date)\n",
    "}\n",
    "ORDER BY ?name"
   ]
  },
  {
   "cell_type": "code",
   "execution_count": null,
   "metadata": {},
   "outputs": [],
   "source": [
    "PREFIX ex: <http://example.org/>\n",
    "PREFIX schema: <https://schema.org/>\n",
    "\n",
    "SELECT ?artist (COUNT(?recording) AS ?count)\n",
    "WHERE {\n",
    "  ?recording a schema:MusicRecording ;\n",
    "             schema:byArtist ?artist .\n",
    "  ?artist a schema:Person .\n",
    "}\n",
    "GROUP BY ?artist\n",
    "ORDER BY DESC(?count)\n",
    "LIMIT 1"
   ]
  },
  {
   "cell_type": "code",
   "execution_count": null,
   "metadata": {},
   "outputs": [],
   "source": [
    "PREFIX ex: <http://example.org/>\n",
    "PREFIX schema: <https://schema.org/>\n",
    "\n",
    "SELECT ?artist ?name (COUNT(?recording) AS ?count)\n",
    "WHERE {\n",
    "  ?recording a schema:MusicRecording ;\n",
    "             schema:byArtist ?artist ;\n",
    "             rdfs:label ?song .\n",
    "  ?artist a schema:Person ;\n",
    "          schema:birthPlace ?birth_place ;\n",
    "          rdfs:label ?name .\n",
    "  ?birth_place a schema:Place ;\n",
    "               schema:addressCountry \"USA\" .\n",
    "}\n",
    "GROUP BY ?artist ?name\n",
    "ORDER BY DESC(?count)"
   ]
  },
  {
   "cell_type": "code",
   "execution_count": null,
   "metadata": {},
   "outputs": [],
   "source": [
    "PREFIX ex: <http://example.org/>\n",
    "PREFIX schema: <https://schema.org/>\n",
    "\n",
    "SELECT ?artist ?name (COUNT(?recording) AS ?count)\n",
    "WHERE {\n",
    "  ?recording a schema:MusicRecording ;\n",
    "             schema:byArtist ?artist ;\n",
    "             rdfs:label ?song .\n",
    "  ?artist a schema:Person ;\n",
    "          rdfs:label ?name .\n",
    "  FILTER(CONTAINS(LCASE(?song), \"love\"))\n",
    "}\n",
    "GROUP BY ?artist ?name\n",
    "ORDER BY DESC(?count)"
   ]
  }
 ],
 "metadata": {
  "kernelspec": {
   "display_name": "base",
   "language": "python",
   "name": "python3"
  },
  "language_info": {
   "codemirror_mode": {
    "name": "ipython",
    "version": 3
   },
   "file_extension": ".py",
   "mimetype": "text/x-python",
   "name": "python",
   "nbconvert_exporter": "python",
   "pygments_lexer": "ipython3",
   "version": "3.8.15"
  },
  "orig_nbformat": 4,
  "vscode": {
   "interpreter": {
    "hash": "fc724f59a171e05a5dc82d36a6cb3a410496cec6883807e37792edd8babbea61"
   }
  }
 },
 "nbformat": 4,
 "nbformat_minor": 2
}

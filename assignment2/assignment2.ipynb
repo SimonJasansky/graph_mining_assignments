{
 "cells": [
  {
   "attachments": {},
   "cell_type": "markdown",
   "metadata": {},
   "source": [
    "# Assignment 1 Part 2\n",
    "Simon Jasansky, Akos Engelmann, Ipek Cakin, Gergely Parady"
   ]
  },
  {
   "cell_type": "code",
   "execution_count": 2,
   "metadata": {},
   "outputs": [],
   "source": [
    "import pandas as pd\n",
    "import numpy as np\n",
    "from rdflib import URIRef, BNode, Literal, Namespace\n",
    "from rdflib.namespace import XSD, RDF, RDFS\n",
    "from rdflib import Graph\n",
    "from urllib.parse import quote"
   ]
  },
  {
   "attachments": {},
   "cell_type": "markdown",
   "metadata": {},
   "source": [
    "## We split the original music.csv dataframe into three: \n",
    "1. Music\n",
    "2. Artists\n",
    "3. Genres"
   ]
  },
  {
   "cell_type": "code",
   "execution_count": 3,
   "metadata": {},
   "outputs": [
    {
     "data": {
      "text/html": [
       "<div>\n",
       "<style scoped>\n",
       "    .dataframe tbody tr th:only-of-type {\n",
       "        vertical-align: middle;\n",
       "    }\n",
       "\n",
       "    .dataframe tbody tr th {\n",
       "        vertical-align: top;\n",
       "    }\n",
       "\n",
       "    .dataframe thead th {\n",
       "        text-align: right;\n",
       "    }\n",
       "</style>\n",
       "<table border=\"1\" class=\"dataframe\">\n",
       "  <thead>\n",
       "    <tr style=\"text-align: right;\">\n",
       "      <th></th>\n",
       "      <th>index</th>\n",
       "      <th>title</th>\n",
       "      <th>artist</th>\n",
       "      <th>top genre</th>\n",
       "      <th>year</th>\n",
       "    </tr>\n",
       "  </thead>\n",
       "  <tbody>\n",
       "    <tr>\n",
       "      <th>0</th>\n",
       "      <td>0</td>\n",
       "      <td>Hey, Soul Sister</td>\n",
       "      <td>Train</td>\n",
       "      <td>neo mellow</td>\n",
       "      <td>2010</td>\n",
       "    </tr>\n",
       "    <tr>\n",
       "      <th>1</th>\n",
       "      <td>1</td>\n",
       "      <td>Love The Way You Lie</td>\n",
       "      <td>Eminem</td>\n",
       "      <td>detroit hip hop</td>\n",
       "      <td>2010</td>\n",
       "    </tr>\n",
       "    <tr>\n",
       "      <th>2</th>\n",
       "      <td>2</td>\n",
       "      <td>TiK ToK</td>\n",
       "      <td>Kesha</td>\n",
       "      <td>dance pop</td>\n",
       "      <td>2010</td>\n",
       "    </tr>\n",
       "    <tr>\n",
       "      <th>3</th>\n",
       "      <td>3</td>\n",
       "      <td>Bad Romance</td>\n",
       "      <td>Lady Gaga</td>\n",
       "      <td>dance pop</td>\n",
       "      <td>2010</td>\n",
       "    </tr>\n",
       "    <tr>\n",
       "      <th>4</th>\n",
       "      <td>4</td>\n",
       "      <td>Just the Way You Are</td>\n",
       "      <td>Bruno Mars</td>\n",
       "      <td>pop</td>\n",
       "      <td>2010</td>\n",
       "    </tr>\n",
       "    <tr>\n",
       "      <th>...</th>\n",
       "      <td>...</td>\n",
       "      <td>...</td>\n",
       "      <td>...</td>\n",
       "      <td>...</td>\n",
       "      <td>...</td>\n",
       "    </tr>\n",
       "    <tr>\n",
       "      <th>598</th>\n",
       "      <td>598</td>\n",
       "      <td>Find U Again (feat. Camila Cabello)</td>\n",
       "      <td>Mark Ronson</td>\n",
       "      <td>dance pop</td>\n",
       "      <td>2019</td>\n",
       "    </tr>\n",
       "    <tr>\n",
       "      <th>599</th>\n",
       "      <td>599</td>\n",
       "      <td>Cross Me (feat. Chance the Rapper &amp; PnB Rock)</td>\n",
       "      <td>Ed Sheeran</td>\n",
       "      <td>pop</td>\n",
       "      <td>2019</td>\n",
       "    </tr>\n",
       "    <tr>\n",
       "      <th>600</th>\n",
       "      <td>600</td>\n",
       "      <td>No Brainer (feat. Justin Bieber, Chance the Ra...</td>\n",
       "      <td>DJ Khaled</td>\n",
       "      <td>dance pop</td>\n",
       "      <td>2019</td>\n",
       "    </tr>\n",
       "    <tr>\n",
       "      <th>601</th>\n",
       "      <td>601</td>\n",
       "      <td>Nothing Breaks Like a Heart (feat. Miley Cyrus)</td>\n",
       "      <td>Mark Ronson</td>\n",
       "      <td>dance pop</td>\n",
       "      <td>2019</td>\n",
       "    </tr>\n",
       "    <tr>\n",
       "      <th>602</th>\n",
       "      <td>602</td>\n",
       "      <td>Kills You Slowly</td>\n",
       "      <td>The Chainsmokers</td>\n",
       "      <td>electropop</td>\n",
       "      <td>2019</td>\n",
       "    </tr>\n",
       "  </tbody>\n",
       "</table>\n",
       "<p>603 rows × 5 columns</p>\n",
       "</div>"
      ],
      "text/plain": [
       "     index                                              title  \\\n",
       "0        0                                   Hey, Soul Sister   \n",
       "1        1                               Love The Way You Lie   \n",
       "2        2                                            TiK ToK   \n",
       "3        3                                        Bad Romance   \n",
       "4        4                               Just the Way You Are   \n",
       "..     ...                                                ...   \n",
       "598    598                Find U Again (feat. Camila Cabello)   \n",
       "599    599      Cross Me (feat. Chance the Rapper & PnB Rock)   \n",
       "600    600  No Brainer (feat. Justin Bieber, Chance the Ra...   \n",
       "601    601    Nothing Breaks Like a Heart (feat. Miley Cyrus)   \n",
       "602    602                                   Kills You Slowly   \n",
       "\n",
       "               artist        top genre  year  \n",
       "0               Train       neo mellow  2010  \n",
       "1              Eminem  detroit hip hop  2010  \n",
       "2               Kesha        dance pop  2010  \n",
       "3           Lady Gaga        dance pop  2010  \n",
       "4          Bruno Mars              pop  2010  \n",
       "..                ...              ...   ...  \n",
       "598       Mark Ronson        dance pop  2019  \n",
       "599        Ed Sheeran              pop  2019  \n",
       "600         DJ Khaled        dance pop  2019  \n",
       "601       Mark Ronson        dance pop  2019  \n",
       "602  The Chainsmokers       electropop  2019  \n",
       "\n",
       "[603 rows x 5 columns]"
      ]
     },
     "execution_count": 3,
     "metadata": {},
     "output_type": "execute_result"
    }
   ],
   "source": [
    "music = pd.read_csv(\"data/music.csv\")\n",
    "music"
   ]
  },
  {
   "cell_type": "code",
   "execution_count": 9,
   "metadata": {},
   "outputs": [
    {
     "data": {
      "text/plain": [
       "array(['neo mellow', 'detroit hip hop', 'dance pop', 'pop',\n",
       "       'canadian pop', 'hip pop', 'barbadian pop', 'atl hip hop',\n",
       "       'australian pop', 'indie pop', 'art pop', 'colombian pop',\n",
       "       'big room', 'british soul', 'chicago rap', 'acoustic pop',\n",
       "       'permanent wave', 'boy band', 'baroque pop', 'celtic rock',\n",
       "       'electro', 'complextro', 'canadian hip hop', 'candy pop',\n",
       "       'alaska indie', 'folk-pop', 'metropopolis', 'house',\n",
       "       'australian hip hop', 'electropop', 'australian dance',\n",
       "       'hollywood', 'canadian contemporary r&b',\n",
       "       'irish singer-songwriter', 'tropical house', 'belgian edm',\n",
       "       'french indie pop', 'hip hop', 'danish pop', 'latin',\n",
       "       'canadian latin', 'electronic trap', 'edm', 'electro house',\n",
       "       'downtempo', 'brostep', 'contemporary country', 'moroccan pop',\n",
       "       'escape room', 'alternative r&b'], dtype=object)"
      ]
     },
     "execution_count": 9,
     "metadata": {},
     "output_type": "execute_result"
    }
   ],
   "source": [
    "artists = music.artist.unique()\n",
    "genre = music[\"top genre\"].unique()\n",
    "artists\n",
    "genre"
   ]
  }
 ],
 "metadata": {
  "kernelspec": {
   "display_name": "base",
   "language": "python",
   "name": "python3"
  },
  "language_info": {
   "codemirror_mode": {
    "name": "ipython",
    "version": 3
   },
   "file_extension": ".py",
   "mimetype": "text/x-python",
   "name": "python",
   "nbconvert_exporter": "python",
   "pygments_lexer": "ipython3",
   "version": "3.9.12"
  },
  "orig_nbformat": 4,
  "vscode": {
   "interpreter": {
    "hash": "fc724f59a171e05a5dc82d36a6cb3a410496cec6883807e37792edd8babbea61"
   }
  }
 },
 "nbformat": 4,
 "nbformat_minor": 2
}

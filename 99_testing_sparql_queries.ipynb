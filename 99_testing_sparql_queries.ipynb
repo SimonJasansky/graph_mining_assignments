{
 "cells": [
  {
   "cell_type": "code",
   "execution_count": 1,
   "metadata": {},
   "outputs": [
    {
     "name": "stdout",
     "output_type": "stream",
     "text": [
      "@prefix ex: <http://www.example.com/> .\n",
      "@prefix mo: <http://purl.org/ontology/mo/> .\n",
      "@prefix rdfs: <http://www.w3.org/2000/01/rdf-schema#> .\n",
      "@prefix schema: <https://schema.org/> .\n",
      "@prefix xsd: <http://www.w3.org/2001/XMLSchema#> .\n",
      "\n",
      "ex:0 a schema:MusicRecording ;\n",
      "    rdfs:label \"Hey, Soul Sister\"@en ;\n",
      "    schema:byArtist \"http://www.example.com/Train\" ;\n",
      "    schema:datePublished \"2010\"^^xsd:gYear ;\n",
      "    schema:genre \"http://www.example.com/neo_mellow\" .\n",
      "\n",
      "ex:1 a schema:MusicRecording ;\n",
      "    rdfs:label \"Love The Way You Lie\"@en ;\n",
      "    schema:byArtist \"http://www.example.com/Eminem\" ;\n",
      "    schema:datePublished \"2010\"^^xsd:gYear ;\n",
      "    schema:genre \"http://www.example.com/detroit_hip_hop\" .\n",
      "\n",
      "ex:10 a schema:MusicRecording ;\n",
      "    rdfs:label \"Club Can't Handle Me (feat. David Guetta)\"@en ;\n",
      "    schema:byArtist \"http://www.example.com/Flo_Rida\" ;\n",
      "    schema:datePublished \"2010\"^^xsd:gYear ;\n",
      "    schema:genre \"http://www.example.com/dance_pop\" .\n",
      "\n",
      "ex:100 a schema:MusicRecording ;\n",
      "    rdfs:label \"Moment 4\n"
     ]
    }
   ],
   "source": [
    "import rdflib\n",
    "  \n",
    "filename = \"assignment2/graph.ttl\"\n",
    "\n",
    "g = rdflib.Graph()\n",
    "\n",
    "g.parse(filename, format='ttl')\n",
    "\n",
    "output = g.serialize(format='ttl')\n",
    "print(output[0:1000])\n"
   ]
  },
  {
   "cell_type": "code",
   "execution_count": 8,
   "metadata": {},
   "outputs": [],
   "source": [
    "\n",
    "query = \"\"\"\n",
    "\n",
    "SELECT DISTINCT ?s ?v1\n",
    "WHERE {\n",
    "?s rdf:type schema:musicRecording .\n",
    "}\n",
    "\n",
    "\"\"\"\n",
    "\n",
    "qres = g.query(query)\n",
    "\n",
    "for row in qres :\n",
    "    print(f\"{row.s} knows {row.v1}\")"
   ]
  },
  {
   "cell_type": "code",
   "execution_count": null,
   "metadata": {},
   "outputs": [],
   "source": []
  }
 ],
 "metadata": {
  "kernelspec": {
   "display_name": "base",
   "language": "python",
   "name": "python3"
  },
  "language_info": {
   "codemirror_mode": {
    "name": "ipython",
    "version": 3
   },
   "file_extension": ".py",
   "mimetype": "text/x-python",
   "name": "python",
   "nbconvert_exporter": "python",
   "pygments_lexer": "ipython3",
   "version": "3.9.12"
  },
  "orig_nbformat": 4
 },
 "nbformat": 4,
 "nbformat_minor": 2
}
